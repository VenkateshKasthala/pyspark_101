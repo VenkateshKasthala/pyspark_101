{
 "cells": [
  {
   "cell_type": "markdown",
   "metadata": {},
   "source": [
    "## Selecting Columns"
   ]
  },
  {
   "cell_type": "code",
   "execution_count": 6,
   "metadata": {},
   "outputs": [],
   "source": [
    "from pyspark.sql import SparkSession\n",
    "spark = SparkSession.builder.appName('Filtering').getOrCreate()"
   ]
  },
  {
   "cell_type": "code",
   "execution_count": 7,
   "metadata": {},
   "outputs": [],
   "source": [
    "df_pyspark = spark.read.csv('/Users/kvenkateshrao/Downloads/Tableau Full course/Season.csv',header=True,inferSchema=True)"
   ]
  },
  {
   "cell_type": "code",
   "execution_count": 9,
   "metadata": {},
   "outputs": [
    {
     "name": "stdout",
     "output_type": "stream",
     "text": [
      "+---------+-----------+-------------+-------------+--------------------+\n",
      "|Season_Id|Season_Year|Orange_Cap_Id|Purple_Cap_Id|Man_of_the_Series_Id|\n",
      "+---------+-----------+-------------+-------------+--------------------+\n",
      "|        1|       2008|          100|          102|                  32|\n",
      "|        2|       2009|           18|           61|                  53|\n",
      "|        3|       2010|          133|          131|                 133|\n",
      "|        4|       2011|          162|          194|                 162|\n",
      "|        5|       2012|          162|          190|                 315|\n",
      "|        6|       2013|           19|           71|                  32|\n",
      "|        7|       2014|           46|          364|                 305|\n",
      "|        8|       2015|          187|           71|                 334|\n",
      "|        9|       2016|            8|          299|                   8|\n",
      "+---------+-----------+-------------+-------------+--------------------+\n",
      "\n"
     ]
    }
   ],
   "source": [
    "df_pyspark.show()"
   ]
  },
  {
   "cell_type": "markdown",
   "metadata": {},
   "source": [
    "# Single column selection"
   ]
  },
  {
   "cell_type": "code",
   "execution_count": 10,
   "metadata": {},
   "outputs": [
    {
     "name": "stdout",
     "output_type": "stream",
     "text": [
      "+---------+\n",
      "|Season_Id|\n",
      "+---------+\n",
      "|        1|\n",
      "|        2|\n",
      "|        3|\n",
      "|        4|\n",
      "|        5|\n",
      "|        6|\n",
      "|        7|\n",
      "|        8|\n",
      "|        9|\n",
      "+---------+\n",
      "\n"
     ]
    }
   ],
   "source": [
    "df_pyspark.select('Season_Id').show()"
   ]
  },
  {
   "cell_type": "markdown",
   "metadata": {},
   "source": [
    "# Multiple column selection"
   ]
  },
  {
   "cell_type": "code",
   "execution_count": 17,
   "metadata": {},
   "outputs": [
    {
     "name": "stdout",
     "output_type": "stream",
     "text": [
      "+---------+-----------+\n",
      "|Season_Id|Season_Year|\n",
      "+---------+-----------+\n",
      "|        1|       2008|\n",
      "|        2|       2009|\n",
      "|        3|       2010|\n",
      "|        4|       2011|\n",
      "|        5|       2012|\n",
      "|        6|       2013|\n",
      "|        7|       2014|\n",
      "|        8|       2015|\n",
      "|        9|       2016|\n",
      "+---------+-----------+\n",
      "\n"
     ]
    }
   ],
   "source": [
    "df_pyspark.select(['Season_Id','Season_Year']).show()"
   ]
  },
  {
   "cell_type": "markdown",
   "metadata": {},
   "source": []
  }
 ],
 "metadata": {
  "kernelspec": {
   "display_name": "Python 3",
   "language": "python",
   "name": "python3"
  },
  "language_info": {
   "codemirror_mode": {
    "name": "ipython",
    "version": 3
   },
   "file_extension": ".py",
   "mimetype": "text/x-python",
   "name": "python",
   "nbconvert_exporter": "python",
   "pygments_lexer": "ipython3",
   "version": "3.12.2"
  }
 },
 "nbformat": 4,
 "nbformat_minor": 2
}
