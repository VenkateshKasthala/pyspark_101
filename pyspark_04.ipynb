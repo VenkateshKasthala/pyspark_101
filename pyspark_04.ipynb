{
 "cells": [
  {
   "cell_type": "markdown",
   "metadata": {},
   "source": [
    "# Window Functions"
   ]
  },
  {
   "cell_type": "code",
   "execution_count": 1,
   "metadata": {},
   "outputs": [],
   "source": [
    "import pyspark"
   ]
  },
  {
   "cell_type": "code",
   "execution_count": 2,
   "metadata": {},
   "outputs": [],
   "source": [
    "from pyspark.sql import SparkSession\n",
    "from pyspark.sql.window import Window\n",
    "from pyspark.sql.functions import row_number, rank, dense_rank, sum, avg"
   ]
  },
  {
   "cell_type": "code",
   "execution_count": 3,
   "metadata": {},
   "outputs": [
    {
     "name": "stderr",
     "output_type": "stream",
     "text": [
      "25/01/08 16:48:02 WARN Utils: Your hostname, Ks-MacBook-Air.local resolves to a loopback address: 127.0.0.1; using 192.168.1.9 instead (on interface en0)\n",
      "25/01/08 16:48:02 WARN Utils: Set SPARK_LOCAL_IP if you need to bind to another address\n",
      "Setting default log level to \"WARN\".\n",
      "To adjust logging level use sc.setLogLevel(newLevel). For SparkR, use setLogLevel(newLevel).\n",
      "25/01/08 16:48:03 WARN NativeCodeLoader: Unable to load native-hadoop library for your platform... using builtin-java classes where applicable\n",
      "25/01/08 16:48:03 WARN Utils: Service 'SparkUI' could not bind on port 4040. Attempting port 4041.\n",
      "25/01/08 16:48:03 WARN Utils: Service 'SparkUI' could not bind on port 4041. Attempting port 4042.\n",
      "25/01/08 16:48:03 WARN Utils: Service 'SparkUI' could not bind on port 4042. Attempting port 4043.\n"
     ]
    }
   ],
   "source": [
    "spark = SparkSession.builder.appName('Window Functions').getOrCreate()"
   ]
  },
  {
   "cell_type": "code",
   "execution_count": 4,
   "metadata": {},
   "outputs": [],
   "source": [
    "data = [(\"Alice\", \"Sales\", 3000),\n",
    "        (\"Bob\", \"Sales\", 4000),\n",
    "        (\"Alice\", \"HR\", 2000),\n",
    "        (\"Bob\", \"HR\", 2500),\n",
    "        (\"Charlie\", \"Sales\", 3000),\n",
    "        (\"Charlie\", \"HR\", 2200)]\n",
    "columns = [\"Name\", \"Department\", \"Salary\"]\n",
    "\n",
    "df = spark.createDataFrame(data, schema=columns)"
   ]
  },
  {
   "cell_type": "code",
   "execution_count": 5,
   "metadata": {},
   "outputs": [],
   "source": [
    "windowSpec = Window.partitionBy(\"Department\").orderBy(\"Salary\")"
   ]
  },
  {
   "cell_type": "markdown",
   "metadata": {},
   "source": [
    "# Row Number"
   ]
  },
  {
   "cell_type": "code",
   "execution_count": 6,
   "metadata": {},
   "outputs": [
    {
     "name": "stderr",
     "output_type": "stream",
     "text": [
      "                                                                                \r"
     ]
    },
    {
     "name": "stdout",
     "output_type": "stream",
     "text": [
      "+-------+----------+------+----------+\n",
      "|   Name|Department|Salary|Row_Number|\n",
      "+-------+----------+------+----------+\n",
      "|  Alice|        HR|  2000|         1|\n",
      "|Charlie|        HR|  2200|         2|\n",
      "|    Bob|        HR|  2500|         3|\n",
      "|  Alice|     Sales|  3000|         1|\n",
      "|Charlie|     Sales|  3000|         2|\n",
      "|    Bob|     Sales|  4000|         3|\n",
      "+-------+----------+------+----------+\n",
      "\n"
     ]
    }
   ],
   "source": [
    "from pyspark.sql.functions import row_number\n",
    "df.withColumn(\"Row_Number\", row_number().over(windowSpec)).show()"
   ]
  },
  {
   "cell_type": "code",
   "execution_count": 7,
   "metadata": {},
   "outputs": [
    {
     "name": "stdout",
     "output_type": "stream",
     "text": [
      "+-------+----------+------+----+\n",
      "|   Name|Department|Salary|Rank|\n",
      "+-------+----------+------+----+\n",
      "|  Alice|        HR|  2000|   1|\n",
      "|Charlie|        HR|  2200|   2|\n",
      "|    Bob|        HR|  2500|   3|\n",
      "|  Alice|     Sales|  3000|   1|\n",
      "|Charlie|     Sales|  3000|   1|\n",
      "|    Bob|     Sales|  4000|   3|\n",
      "+-------+----------+------+----+\n",
      "\n"
     ]
    },
    {
     "name": "stderr",
     "output_type": "stream",
     "text": [
      "25/01/08 16:48:18 WARN GarbageCollectionMetrics: To enable non-built-in garbage collector(s) List(G1 Concurrent GC), users should configure it(them) to spark.eventLog.gcMetrics.youngGenerationGarbageCollectors or spark.eventLog.gcMetrics.oldGenerationGarbageCollectors\n"
     ]
    }
   ],
   "source": [
    "from pyspark.sql.functions import rank # type: ignore\n",
    "df.withColumn(\"Rank\", rank().over(windowSpec)).show()"
   ]
  },
  {
   "cell_type": "code",
   "execution_count": 8,
   "metadata": {},
   "outputs": [
    {
     "name": "stdout",
     "output_type": "stream",
     "text": [
      "+-------+----------+------+----------+\n",
      "|   Name|Department|Salary|Dense_Rank|\n",
      "+-------+----------+------+----------+\n",
      "|  Alice|        HR|  2000|         1|\n",
      "|Charlie|        HR|  2200|         2|\n",
      "|    Bob|        HR|  2500|         3|\n",
      "|  Alice|     Sales|  3000|         1|\n",
      "|Charlie|     Sales|  3000|         1|\n",
      "|    Bob|     Sales|  4000|         2|\n",
      "+-------+----------+------+----------+\n",
      "\n"
     ]
    }
   ],
   "source": [
    "from pyspark.sql.functions import dense_rank\n",
    "\n",
    "df.withColumn(\"Dense_Rank\", dense_rank().over(windowSpec)).show()\n"
   ]
  },
  {
   "cell_type": "code",
   "execution_count": 9,
   "metadata": {},
   "outputs": [
    {
     "name": "stdout",
     "output_type": "stream",
     "text": [
      "+-------+----------+------+-------------+\n",
      "|   Name|Department|Salary|Running_Total|\n",
      "+-------+----------+------+-------------+\n",
      "|  Alice|        HR|  2000|         2000|\n",
      "|Charlie|        HR|  2200|         4200|\n",
      "|    Bob|        HR|  2500|         6700|\n",
      "|  Alice|     Sales|  3000|         6000|\n",
      "|Charlie|     Sales|  3000|         6000|\n",
      "|    Bob|     Sales|  4000|        10000|\n",
      "+-------+----------+------+-------------+\n",
      "\n"
     ]
    }
   ],
   "source": [
    "df.withColumn(\"Running_Total\", sum(\"Salary\").over(windowSpec)).show()\n"
   ]
  }
 ],
 "metadata": {
  "kernelspec": {
   "display_name": "Python 3",
   "language": "python",
   "name": "python3"
  },
  "language_info": {
   "codemirror_mode": {
    "name": "ipython",
    "version": 3
   },
   "file_extension": ".py",
   "mimetype": "text/x-python",
   "name": "python",
   "nbconvert_exporter": "python",
   "pygments_lexer": "ipython3",
   "version": "3.12.2"
  }
 },
 "nbformat": 4,
 "nbformat_minor": 2
}
