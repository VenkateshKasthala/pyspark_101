{
 "cells": [
  {
   "cell_type": "code",
   "execution_count": 1,
   "metadata": {},
   "outputs": [],
   "source": [
    "from pyspark.sql import SparkSession"
   ]
  },
  {
   "cell_type": "code",
   "execution_count": 2,
   "metadata": {},
   "outputs": [
    {
     "name": "stderr",
     "output_type": "stream",
     "text": [
      "Setting default log level to \"WARN\".\n",
      "To adjust logging level use sc.setLogLevel(newLevel). For SparkR, use setLogLevel(newLevel).\n",
      "25/01/08 16:50:31 WARN NativeCodeLoader: Unable to load native-hadoop library for your platform... using builtin-java classes where applicable\n",
      "25/01/08 16:50:31 WARN Utils: Service 'SparkUI' could not bind on port 4040. Attempting port 4041.\n",
      "25/01/08 16:50:31 WARN Utils: Service 'SparkUI' could not bind on port 4041. Attempting port 4042.\n",
      "25/01/08 16:50:31 WARN Utils: Service 'SparkUI' could not bind on port 4042. Attempting port 4043.\n",
      "25/01/08 16:50:31 WARN Utils: Service 'SparkUI' could not bind on port 4043. Attempting port 4044.\n",
      "25/01/08 16:50:31 WARN Utils: Service 'SparkUI' could not bind on port 4044. Attempting port 4045.\n"
     ]
    }
   ],
   "source": [
    "spark= SparkSession.builder.appName('SQL Operations').getOrCreate()"
   ]
  },
  {
   "cell_type": "markdown",
   "metadata": {},
   "source": [
    "# Creating DataFrames and Registering Temporary Views"
   ]
  },
  {
   "cell_type": "code",
   "execution_count": 3,
   "metadata": {},
   "outputs": [],
   "source": [
    "data = [(\"Alice\", 23), (\"Bob\", 31), (\"Cathy\", 27)]\n",
    "columns = [\"Name\", \"Age\"]\n",
    "\n",
    "df = spark.createDataFrame(data, columns)\n",
    "\n",
    "df.createOrReplaceTempView(\"people\")"
   ]
  },
  {
   "cell_type": "markdown",
   "metadata": {},
   "source": [
    "#  Querying Data with SQL Syntax"
   ]
  },
  {
   "cell_type": "markdown",
   "metadata": {},
   "source": [
    "Once a DataFrame is registered as a view, you can query it using SQL. The spark.sql() function runs the SQL command and returns the result as a new DataFrame."
   ]
  },
  {
   "cell_type": "code",
   "execution_count": 4,
   "metadata": {},
   "outputs": [
    {
     "name": "stderr",
     "output_type": "stream",
     "text": [
      "                                                                                \r"
     ]
    },
    {
     "name": "stdout",
     "output_type": "stream",
     "text": [
      "+-----+---+\n",
      "| Name|Age|\n",
      "+-----+---+\n",
      "|  Bob| 31|\n",
      "|Cathy| 27|\n",
      "+-----+---+\n",
      "\n"
     ]
    }
   ],
   "source": [
    "result_df = spark.sql(\"SELECT Name, Age FROM people WHERE Age > 25\")\n",
    "result_df.show()"
   ]
  },
  {
   "cell_type": "markdown",
   "metadata": {},
   "source": [
    "# DataFrame API and SQL Operations Together\n"
   ]
  },
  {
   "cell_type": "code",
   "execution_count": 5,
   "metadata": {},
   "outputs": [
    {
     "name": "stdout",
     "output_type": "stream",
     "text": [
      "+-----+---+----------+\n",
      "| Name|Age|AgePlusOne|\n",
      "+-----+---+----------+\n",
      "|  Bob| 31|        32|\n",
      "|Cathy| 27|        28|\n",
      "+-----+---+----------+\n",
      "\n"
     ]
    }
   ],
   "source": [
    "result_df = spark.sql(\"SELECT Name, Age FROM people WHERE Age > 25\")\n",
    "result_transformed = result_df.withColumn(\"AgePlusOne\", result_df[\"Age\"] + 1)\n",
    "result_transformed.show()"
   ]
  },
  {
   "cell_type": "markdown",
   "metadata": {},
   "source": [
    "# Joining DataFrames Using SQL"
   ]
  },
  {
   "cell_type": "code",
   "execution_count": 6,
   "metadata": {},
   "outputs": [
    {
     "name": "stdout",
     "output_type": "stream",
     "text": [
      "+------------+----------+------+\n",
      "|CustomerName| OrderDate|Amount|\n",
      "+------------+----------+------+\n",
      "|       Alice|2024-01-01|   150|\n",
      "|         Bob|2024-01-02|   200|\n",
      "+------------+----------+------+\n",
      "\n"
     ]
    }
   ],
   "source": [
    "orders_data = [(1, \"2024-01-01\", 150), (2, \"2024-01-02\", 200)]\n",
    "orders_columns = [\"OrderID\", \"OrderDate\", \"Amount\"]\n",
    "orders_df = spark.createDataFrame(orders_data, orders_columns)\n",
    "orders_df.createOrReplaceTempView(\"orders\")\n",
    "\n",
    "customers_data = [(1, \"Alice\"), (2, \"Bob\")]\n",
    "customers_columns = [\"CustomerID\", \"CustomerName\"]\n",
    "customers_df = spark.createDataFrame(customers_data, customers_columns)\n",
    "customers_df.createOrReplaceTempView(\"customers\")\n",
    "\n",
    "# SQL join operation\n",
    "joined_df = spark.sql(\"\"\"\n",
    "    SELECT c.CustomerName, o.OrderDate, o.Amount \n",
    "    FROM customers c \n",
    "    JOIN orders o \n",
    "    ON c.CustomerID = o.OrderID\n",
    "\"\"\")\n",
    "joined_df.show()"
   ]
  },
  {
   "cell_type": "markdown",
   "metadata": {},
   "source": [
    "# Aggregation and Grouping in SQL\n"
   ]
  },
  {
   "cell_type": "code",
   "execution_count": 7,
   "metadata": {},
   "outputs": [
    {
     "name": "stdout",
     "output_type": "stream",
     "text": [
      "+------------+-----------+-----------+\n",
      "|CustomerName|TotalOrders|TotalAmount|\n",
      "+------------+-----------+-----------+\n",
      "|         Bob|          1|        200|\n",
      "|       Alice|          1|        150|\n",
      "+------------+-----------+-----------+\n",
      "\n"
     ]
    }
   ],
   "source": [
    "agg_df = spark.sql(\"\"\"\n",
    "    SELECT CustomerName, COUNT(*) AS TotalOrders, SUM(Amount) AS TotalAmount\n",
    "    FROM orders o \n",
    "    JOIN customers c ON o.OrderID = c.CustomerID\n",
    "    GROUP BY CustomerName\n",
    "\"\"\")\n",
    "agg_df.show()"
   ]
  },
  {
   "cell_type": "markdown",
   "metadata": {},
   "source": [
    "#  Using Window Functions in PySpark SQL"
   ]
  },
  {
   "cell_type": "code",
   "execution_count": 8,
   "metadata": {},
   "outputs": [
    {
     "name": "stderr",
     "output_type": "stream",
     "text": [
      "25/01/08 16:50:37 WARN WindowExec: No Partition Defined for Window operation! Moving all data to a single partition, this can cause serious performance degradation.\n",
      "25/01/08 16:50:37 WARN WindowExec: No Partition Defined for Window operation! Moving all data to a single partition, this can cause serious performance degradation.\n",
      "25/01/08 16:50:37 WARN WindowExec: No Partition Defined for Window operation! Moving all data to a single partition, this can cause serious performance degradation.\n"
     ]
    },
    {
     "name": "stdout",
     "output_type": "stream",
     "text": [
      "+-------+----------+------+---------+\n",
      "|OrderID| OrderDate|Amount|RowNumber|\n",
      "+-------+----------+------+---------+\n",
      "|      1|2024-01-01|   150|        1|\n",
      "|      2|2024-01-02|   200|        2|\n",
      "+-------+----------+------+---------+\n",
      "\n"
     ]
    }
   ],
   "source": [
    "from pyspark.sql.window import Window\n",
    "from pyspark.sql.functions import row_number\n",
    "\n",
    "# Define a window\n",
    "windowSpec = Window.orderBy(\"Amount\")\n",
    "\n",
    "# Use row_number as a window function\n",
    "result = orders_df.withColumn(\"RowNumber\", row_number().over(windowSpec))\n",
    "result.show()\n"
   ]
  },
  {
   "cell_type": "markdown",
   "metadata": {},
   "source": [
    "# Advanced Transformations with PySpark SQL and DataFrame API"
   ]
  },
  {
   "cell_type": "code",
   "execution_count": 9,
   "metadata": {},
   "outputs": [
    {
     "name": "stdout",
     "output_type": "stream",
     "text": [
      "+-------+-----------+\n",
      "|OrderID|TotalAmount|\n",
      "+-------+-----------+\n",
      "|      1|        150|\n",
      "|      2|        200|\n",
      "+-------+-----------+\n",
      "\n"
     ]
    },
    {
     "name": "stderr",
     "output_type": "stream",
     "text": [
      "25/01/08 16:50:43 WARN GarbageCollectionMetrics: To enable non-built-in garbage collector(s) List(G1 Concurrent GC), users should configure it(them) to spark.eventLog.gcMetrics.youngGenerationGarbageCollectors or spark.eventLog.gcMetrics.oldGenerationGarbageCollectors\n"
     ]
    }
   ],
   "source": [
    "\n",
    "filtered_df = spark.sql(\"SELECT * FROM orders WHERE Amount > 100\")\n",
    "aggregated_df = filtered_df.groupBy(\"OrderID\").sum(\"Amount\")\n",
    "final_df = aggregated_df.withColumnRenamed(\"sum(Amount)\", \"TotalAmount\")\n",
    "final_df.show()\n"
   ]
  }
 ],
 "metadata": {
  "kernelspec": {
   "display_name": "Python 3",
   "language": "python",
   "name": "python3"
  },
  "language_info": {
   "codemirror_mode": {
    "name": "ipython",
    "version": 3
   },
   "file_extension": ".py",
   "mimetype": "text/x-python",
   "name": "python",
   "nbconvert_exporter": "python",
   "pygments_lexer": "ipython3",
   "version": "3.12.2"
  }
 },
 "nbformat": 4,
 "nbformat_minor": 2
}
