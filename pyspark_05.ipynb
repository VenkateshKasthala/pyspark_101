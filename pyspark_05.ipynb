{
 "cells": [
  {
   "cell_type": "code",
   "execution_count": 1,
   "metadata": {},
   "outputs": [],
   "source": [
    "from pyspark.sql import SparkSession\n",
    "from pyspark.sql.functions import col, avg, sum"
   ]
  },
  {
   "cell_type": "code",
   "execution_count": 2,
   "metadata": {},
   "outputs": [
    {
     "name": "stderr",
     "output_type": "stream",
     "text": [
      "Setting default log level to \"WARN\".\n",
      "To adjust logging level use sc.setLogLevel(newLevel). For SparkR, use setLogLevel(newLevel).\n",
      "25/01/08 16:50:13 WARN NativeCodeLoader: Unable to load native-hadoop library for your platform... using builtin-java classes where applicable\n",
      "25/01/08 16:50:14 WARN Utils: Service 'SparkUI' could not bind on port 4040. Attempting port 4041.\n",
      "25/01/08 16:50:14 WARN Utils: Service 'SparkUI' could not bind on port 4041. Attempting port 4042.\n",
      "25/01/08 16:50:14 WARN Utils: Service 'SparkUI' could not bind on port 4042. Attempting port 4043.\n",
      "25/01/08 16:50:14 WARN Utils: Service 'SparkUI' could not bind on port 4043. Attempting port 4044.\n"
     ]
    }
   ],
   "source": [
    "spark = SparkSession.builder.appName(\"Data manipulation\").getOrCreate()"
   ]
  },
  {
   "cell_type": "code",
   "execution_count": 3,
   "metadata": {},
   "outputs": [],
   "source": [
    "data = [(1, \"A\", 10), (2, \"B\", 20), (3, \"A\", 30), (4, \"C\", 40)]\n",
    "columns = [\"id\", \"category\", \"value\"]\n",
    "df = spark.createDataFrame(data, columns)\n"
   ]
  },
  {
   "cell_type": "markdown",
   "metadata": {},
   "source": [
    "# Filtering rows where value is greater than 15 "
   ]
  },
  {
   "cell_type": "code",
   "execution_count": 4,
   "metadata": {},
   "outputs": [],
   "source": [
    "filtered_df = df.filter(col(\"value\") > 15)"
   ]
  },
  {
   "cell_type": "markdown",
   "metadata": {},
   "source": [
    "# Grouping by category and aggregating with sum and average"
   ]
  },
  {
   "cell_type": "code",
   "execution_count": 5,
   "metadata": {},
   "outputs": [
    {
     "name": "stderr",
     "output_type": "stream",
     "text": [
      "                                                                                \r"
     ]
    },
    {
     "name": "stdout",
     "output_type": "stream",
     "text": [
      "+---+--------+-----+\n",
      "| id|category|value|\n",
      "+---+--------+-----+\n",
      "|  2|       B|   20|\n",
      "|  3|       A|   30|\n",
      "|  4|       C|   40|\n",
      "+---+--------+-----+\n",
      "\n",
      "+--------+-----------+---------+\n",
      "|category|total_value|avg_value|\n",
      "+--------+-----------+---------+\n",
      "|       A|         40|     20.0|\n",
      "|       B|         20|     20.0|\n",
      "|       C|         40|     40.0|\n",
      "+--------+-----------+---------+\n",
      "\n"
     ]
    }
   ],
   "source": [
    "agg_df = df.groupBy(\"category\").agg(sum(\"value\").alias(\"total_value\"), avg(\"value\").alias(\"avg_value\"))\n",
    "\n",
    "filtered_df.show()\n",
    "agg_df.show()"
   ]
  },
  {
   "cell_type": "markdown",
   "metadata": {},
   "source": [
    "# JOINS"
   ]
  },
  {
   "cell_type": "code",
   "execution_count": 6,
   "metadata": {},
   "outputs": [],
   "source": [
    "data1 = [(1, \"A\"), (2, \"B\"), (3, \"C\")]\n",
    "data2 = [(1, \"Apple\"), (2, \"Banana\"), (4, \"Durian\")]\n",
    "\n",
    "df1 = spark.createDataFrame(data1, [\"id\", \"category\"])\n",
    "df2 = spark.createDataFrame(data2, [\"id\", \"fruit\"])"
   ]
  },
  {
   "cell_type": "code",
   "execution_count": 7,
   "metadata": {},
   "outputs": [
    {
     "name": "stdout",
     "output_type": "stream",
     "text": [
      "+---+--------+\n",
      "| id|category|\n",
      "+---+--------+\n",
      "|  1|       A|\n",
      "|  2|       B|\n",
      "|  3|       C|\n",
      "+---+--------+\n",
      "\n"
     ]
    }
   ],
   "source": [
    "df1.show()"
   ]
  },
  {
   "cell_type": "code",
   "execution_count": 8,
   "metadata": {},
   "outputs": [
    {
     "name": "stdout",
     "output_type": "stream",
     "text": [
      "+---+------+\n",
      "| id| fruit|\n",
      "+---+------+\n",
      "|  1| Apple|\n",
      "|  2|Banana|\n",
      "|  4|Durian|\n",
      "+---+------+\n",
      "\n"
     ]
    }
   ],
   "source": [
    "df2.show()"
   ]
  },
  {
   "cell_type": "code",
   "execution_count": 9,
   "metadata": {},
   "outputs": [],
   "source": [
    "inner_join_df = df1.join(df2, on=\"id\", how=\"inner\")"
   ]
  },
  {
   "cell_type": "code",
   "execution_count": 10,
   "metadata": {},
   "outputs": [],
   "source": [
    "left_join_df = df1.join(df2, on=\"id\", how=\"left\")"
   ]
  },
  {
   "cell_type": "code",
   "execution_count": 11,
   "metadata": {},
   "outputs": [
    {
     "name": "stdout",
     "output_type": "stream",
     "text": [
      "+---+--------+------+\n",
      "| id|category| fruit|\n",
      "+---+--------+------+\n",
      "|  1|       A| Apple|\n",
      "|  2|       B|Banana|\n",
      "+---+--------+------+\n",
      "\n",
      "+---+--------+------+\n",
      "| id|category| fruit|\n",
      "+---+--------+------+\n",
      "|  1|       A| Apple|\n",
      "|  2|       B|Banana|\n",
      "|  3|       C|  NULL|\n",
      "+---+--------+------+\n",
      "\n",
      "+---+--------+\n",
      "| id|category|\n",
      "+---+--------+\n",
      "|  1|       A|\n",
      "|  2|       B|\n",
      "|  3|       C|\n",
      "|  1|   Apple|\n",
      "|  2|  Banana|\n",
      "|  4|  Durian|\n",
      "+---+--------+\n",
      "\n"
     ]
    }
   ],
   "source": [
    "union_df = df1.union(df2) \n",
    "\n",
    "inner_join_df.show()\n",
    "left_join_df.show()\n",
    "union_df.show()"
   ]
  },
  {
   "cell_type": "markdown",
   "metadata": {},
   "source": [
    "# Window Functions"
   ]
  },
  {
   "cell_type": "code",
   "execution_count": 12,
   "metadata": {},
   "outputs": [],
   "source": [
    "from pyspark.sql import Window\n",
    "from pyspark.sql.functions import row_number, rank, sum, dense_rank"
   ]
  },
  {
   "cell_type": "code",
   "execution_count": 13,
   "metadata": {},
   "outputs": [],
   "source": [
    "data = [(1, \"A\", 100), (2, \"A\", 200), (3, \"B\", 300), (4, \"B\", 400)]\n",
    "df = spark.createDataFrame(data, [\"id\", \"category\", \"value\"])"
   ]
  },
  {
   "cell_type": "code",
   "execution_count": 14,
   "metadata": {},
   "outputs": [
    {
     "name": "stdout",
     "output_type": "stream",
     "text": [
      "+---+--------+-----+----------+\n",
      "| id|category|value|row_number|\n",
      "+---+--------+-----+----------+\n",
      "|  1|       A|  100|         1|\n",
      "|  2|       A|  200|         2|\n",
      "|  3|       B|  300|         1|\n",
      "|  4|       B|  400|         2|\n",
      "+---+--------+-----+----------+\n",
      "\n",
      "+---+--------+-----+----+\n",
      "| id|category|value|rank|\n",
      "+---+--------+-----+----+\n",
      "|  1|       A|  100|   1|\n",
      "|  2|       A|  200|   2|\n",
      "|  3|       B|  300|   1|\n",
      "|  4|       B|  400|   2|\n",
      "+---+--------+-----+----+\n",
      "\n",
      "+---+--------+-----+-------------+\n",
      "| id|category|value|running_total|\n",
      "+---+--------+-----+-------------+\n",
      "|  1|       A|  100|          100|\n",
      "|  2|       A|  200|          300|\n",
      "|  3|       B|  300|          300|\n",
      "|  4|       B|  400|          700|\n",
      "+---+--------+-----+-------------+\n",
      "\n",
      "+---+--------+-----+----------+\n",
      "| id|category|value|dense_rank|\n",
      "+---+--------+-----+----------+\n",
      "|  1|       A|  100|         1|\n",
      "|  2|       A|  200|         2|\n",
      "|  3|       B|  300|         1|\n",
      "|  4|       B|  400|         2|\n",
      "+---+--------+-----+----------+\n",
      "\n"
     ]
    },
    {
     "name": "stderr",
     "output_type": "stream",
     "text": [
      "25/01/08 16:50:26 WARN GarbageCollectionMetrics: To enable non-built-in garbage collector(s) List(G1 Concurrent GC), users should configure it(them) to spark.eventLog.gcMetrics.youngGenerationGarbageCollectors or spark.eventLog.gcMetrics.oldGenerationGarbageCollectors\n"
     ]
    }
   ],
   "source": [
    "window_spec = Window.partitionBy(\"category\").orderBy(\"value\")\n",
    "df_with_row_number = df.withColumn(\"row_number\", row_number().over(window_spec))\n",
    "df_with_rank = df.withColumn(\"rank\", rank().over(window_spec))\n",
    "df_with_running_total = df.withColumn(\"running_total\", sum(\"value\").over(window_spec))\n",
    "df_with_dense_rank = df.withColumn(\"dense_rank\", dense_rank().over(window_spec))\n",
    "df_with_row_number.show()\n",
    "df_with_rank.show()\n",
    "df_with_running_total.show()\n",
    "df_with_dense_rank.show()"
   ]
  }
 ],
 "metadata": {
  "kernelspec": {
   "display_name": "Python 3",
   "language": "python",
   "name": "python3"
  },
  "language_info": {
   "codemirror_mode": {
    "name": "ipython",
    "version": 3
   },
   "file_extension": ".py",
   "mimetype": "text/x-python",
   "name": "python",
   "nbconvert_exporter": "python",
   "pygments_lexer": "ipython3",
   "version": "3.12.2"
  }
 },
 "nbformat": 4,
 "nbformat_minor": 2
}
